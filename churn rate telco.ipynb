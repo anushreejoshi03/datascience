{
 "cells": [
  {
   "cell_type": "code",
   "execution_count": null,
   "id": "2a7c7948",
   "metadata": {},
   "outputs": [],
   "source": [
    "import numpy as np \n",
    "import pandas as pd \n",
    "import matplotlib.pyplot as plt \n",
    "import seaborn as sns \n",
    "\n",
    "#creating a dataframe with the data and looking at the first 5 rows\n",
    "df = pd.read_csv('data2/telco_churn.csv')\n",
    "df.head(5)\n",
    "\n",
    "#looking at shape of dataset it is 100,000 rows by 100 columns\n",
    "df.shape\n",
    "\n",
    "#describing the dataset \n",
    "df.describe()\n",
    "\n",
    "#type of data in each column \n",
    "df.info()\n",
    "\n",
    "#dropping Customer ID as it will not determine the probability of a customer churning\n",
    "df.drop('Customer_ID', axis = 1, inplace = True)\n",
    "df.info()\n",
    "\n",
    "\n",
    "#seperating into 3 groups: float, int and object for visualization\n",
    "df_categorical = [col for col in df.columns if df[col].dtype == 'object']\n",
    "df_integer = [col for col in df.columns if df[col].dtype == 'int64']\n",
    "df_float = [col for col in df.columns if df[col].dtype == 'float64']  \n",
    "\n"
   ]
  },
  {
   "cell_type": "code",
   "execution_count": null,
   "id": "b7c1fe91",
   "metadata": {},
   "outputs": [],
   "source": [
    "# Checking for null entries\n",
    "print(df.isnull().sum())\n",
    "\n",
    "#columns with missing values \n",
    "null_val = df.isnull().sum().sort_values(ascending = False).head(11)\n",
    "percent = (null_val/len(df))*100\n",
    "\n",
    "\n",
    "\n",
    "\n",
    "# Percentage of missing values\n",
    "pd.DataFrame({'Number of missing values': null_val, 'Percentage of missing data': percent})\n"
   ]
  },
  {
   "cell_type": "code",
   "execution_count": null,
   "id": "6ccbd0e3",
   "metadata": {},
   "outputs": [],
   "source": [
    "#visualizing the features with the most missing values against the churn \n",
    "sns.countplot(x= \"numbcars\", hue=\"churn\", data=df);\n",
    "plt.xticks()\n",
    "plt.show()\n",
    "df.groupby('numbcars')[\"churn\"].value_counts(normalize=True).unstack(fill_value=0)\n",
    "\n",
    "sns.countplot(x= \"dwllsize\", hue=\"churn\", data=df);\n",
    "plt.xticks()\n",
    "plt.show()\n",
    "df.groupby('dwllsize')[\"churn\"].value_counts(normalize=True).unstack(fill_value=0)\n",
    "\n",
    "\n",
    "sns.countplot(x= \"HHstatin\", hue=\"churn\", data=df);\n",
    "plt.xticks()\n",
    "plt.show()\n",
    "df.groupby('HHstatin')[\"churn\"].value_counts(normalize=True).unstack(fill_value=0)\n",
    "\n",
    "sns.countplot(x= \"ownrent\", hue=\"churn\", data=df);\n",
    "plt.xticks()\n",
    "plt.show()\n",
    "df.groupby('ownrent')[\"churn\"].value_counts(normalize=True).unstack(fill_value=0)\n",
    "\n",
    "sns.countplot(x= \"lor\", hue=\"churn\", data=df);\n",
    "plt.xticks()\n",
    "plt.show()\n",
    "df.groupby('lor')[\"churn\"].value_counts(normalize=True).unstack(fill_value=0)\n",
    "\n",
    "sns.countplot(x= \"income\", hue=\"churn\", data=df);\n",
    "plt.xticks()\n",
    "plt.show()\n",
    "df.groupby('income')[\"churn\"].value_counts(normalize=True).unstack(fill_value=0)\n",
    "\n",
    "sns.countplot(x= \"adults\", hue=\"churn\", data=df);\n",
    "plt.xticks()\n",
    "plt.show()\n",
    "df.groupby('adults')[\"churn\"].value_counts(normalize=True).unstack(fill_value=0)\n",
    "\n",
    "sns.countplot(x= \"infobase\", hue=\"churn\", data=df);\n",
    "plt.xticks()\n",
    "plt.show()\n",
    "df.groupby('infobase')[\"churn\"].value_counts(normalize=True).unstack(fill_value=0)\n",
    "\n",
    "sns.countplot(x= \"hnd_webcap\", hue=\"churn\", data=df);\n",
    "plt.xticks()\n",
    "plt.show()\n",
    "df.groupby('hnd_webcap')[\"churn\"].value_counts(normalize=True).unstack(fill_value=0)\n",
    "\n",
    "sns.countplot(x= \"prizm_social_one\", hue=\"churn\", data=df);\n",
    "plt.xticks()\n",
    "plt.show()\n",
    "df.groupby('prizm_social_one')[\"churn\"].value_counts(normalize=True).unstack(fill_value=0)\n"
   ]
  },
  {
   "cell_type": "code",
   "execution_count": null,
   "id": "44fb302b",
   "metadata": {
    "scrolled": true
   },
   "outputs": [],
   "source": [
    "plt.figure(figsize=(20, 5))\n",
    "sns.heatmap(df.isnull())\n",
    "plt.show"
   ]
  },
  {
   "cell_type": "code",
   "execution_count": null,
   "id": "531a6850",
   "metadata": {},
   "outputs": [],
   "source": [
    "df.drop(['numbcars','dwllsize','HHstatin','ownrent','dwlltype','lor',\n",
    "         'income','adults','infobase','prizm_social_one',],axis=1,inplace=True)"
   ]
  },
  {
   "cell_type": "code",
   "execution_count": null,
   "id": "728be2c0",
   "metadata": {},
   "outputs": [],
   "source": [
    "df.shape"
   ]
  },
  {
   "cell_type": "code",
   "execution_count": null,
   "id": "7bea39fd",
   "metadata": {},
   "outputs": [],
   "source": [
    "#plotting integer values into a histogram\n",
    "int_hist = df[['months', 'uniqsubs','actvsubs','totcalls','adjqty','avg3mou','avg3qty','avg3rev']]\n",
    "\n",
    "fig1 = plt.figure(1, figsize=(15, 10))\n",
    "plt.suptitle('Histograms for columns with data type as integer\\n')\n",
    "\n",
    "for i in range(int_hist.shape[1]):\n",
    "    plt.subplot(6, 3, i + 1)\n",
    "    f = plt.gca()\n",
    "    f.set_title(int_hist.columns.values[i])\n",
    "    vals = np.size(int_hist.iloc[:, i].unique())\n",
    "    if vals >= 100:\n",
    "        vals = 100\n",
    "    plt.hist(int_hist.iloc[:, i], bins=vals, color = '#0000BB')\n",
    "\n",
    "plt.tight_layout(rect=[0, 0.05, 1, 0.95])  \n",
    "\n",
    "fig1 = plt.figure(1, figsize=(15, 10))\n",
    "plt.suptitle('Histograms for columns with data type as integer\\n')\n",
    "\n",
    "for i in range(int_hist.shape[1]):\n",
    "    plt.subplot(6, 3, i + 1)\n",
    "    f = plt.gca()\n",
    "    f.set_title(int_hist.columns.values[i])\n",
    "    vals = np.size(int_hist.iloc[:, i].unique())\n",
    "    if vals >= 100:\n",
    "        vals = 100\n",
    "    plt.hist(int_hist.iloc[:, i], bins=vals, color = '#0000BB')\n",
    "\n",
    "plt.tight_layout(rect=[0, 0.05, 1, 0.95])\n",
    "\n"
   ]
  },
  {
   "cell_type": "code",
   "execution_count": null,
   "id": "ecadecde",
   "metadata": {},
   "outputs": [],
   "source": [
    "def find_outliers(df,columns):\n",
    "    outliers = []\n",
    "    \n",
    "    for i in columns:\n",
    "        # upper limit \n",
    "        ucl_val = df[i].mean() + (3 * df[i].std())\n",
    "        \n",
    "        #lower limit \n",
    "        lcl_val = df[i].mean() - (3 * df[i].std())\n",
    "        \n",
    "        df[(df[i]>ucl_val) | (df[i]<lcl_val)][i]\n",
    "\n",
    "    return outliers"
   ]
  },
  {
   "cell_type": "code",
   "execution_count": null,
   "id": "4bba28a0",
   "metadata": {
    "scrolled": true
   },
   "outputs": [],
   "source": []
  },
  {
   "cell_type": "code",
   "execution_count": null,
   "id": "1c25830d",
   "metadata": {},
   "outputs": [],
   "source": []
  },
  {
   "cell_type": "code",
   "execution_count": null,
   "id": "a086bdb7",
   "metadata": {},
   "outputs": [],
   "source": []
  }
 ],
 "metadata": {
  "kernelspec": {
   "display_name": "Python 3",
   "language": "python",
   "name": "python3"
  },
  "language_info": {
   "codemirror_mode": {
    "name": "ipython",
    "version": 3
   },
   "file_extension": ".py",
   "mimetype": "text/x-python",
   "name": "python",
   "nbconvert_exporter": "python",
   "pygments_lexer": "ipython3",
   "version": "3.8.8"
  }
 },
 "nbformat": 4,
 "nbformat_minor": 5
}
